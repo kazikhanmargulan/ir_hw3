{
 "cells": [
  {
   "cell_type": "code",
   "execution_count": 1,
   "id": "a8c8a0d2",
   "metadata": {},
   "outputs": [],
   "source": [
    "from catboost import CatBoostRanker, Pool, MetricVisualizer\n",
    "from copy import deepcopy\n",
    "import numpy as np\n",
    "import os\n",
    "import pandas as pd"
   ]
  },
  {
   "cell_type": "markdown",
   "id": "d44af805",
   "metadata": {},
   "source": [
    "# Re-formatting given txts to a necessary format"
   ]
  },
  {
   "cell_type": "code",
   "execution_count": 2,
   "id": "d3dcb0fb",
   "metadata": {},
   "outputs": [],
   "source": [
    "train_file = open('imat2009/imat2009_train_new.txt')\n",
    "test_file = open('imat2009/imat2009_test_new.txt')"
   ]
  },
  {
   "cell_type": "code",
   "execution_count": 3,
   "id": "c4566d85",
   "metadata": {},
   "outputs": [],
   "source": [
    "train = train_file.readlines()\n",
    "test = test_file.readlines()"
   ]
  },
  {
   "cell_type": "code",
   "execution_count": 4,
   "id": "606f7b2e",
   "metadata": {},
   "outputs": [],
   "source": [
    "train_new = []\n",
    "\n",
    "for line in train:\n",
    "    train_new.append(line.split())"
   ]
  },
  {
   "cell_type": "code",
   "execution_count": 5,
   "id": "34cf268c",
   "metadata": {},
   "outputs": [],
   "source": [
    "X_train = []\n",
    "y_train = []\n",
    "queries_train = []\n",
    "\n",
    "for train_new_line in train_new:\n",
    "    my_train = [0] * 245\n",
    "    for i in range(1, len(train_new_line)-2):\n",
    "        index, value = train_new_line[i].split(':')\n",
    "        my_train[int(index)-1] = float(value)\n",
    "    X_train.append(my_train)\n",
    "    y_train.append(float(train_new_line[0]))\n",
    "    queries_train.append(int(train_new_line[-1]))"
   ]
  },
  {
   "cell_type": "code",
   "execution_count": 6,
   "id": "6ec872b3",
   "metadata": {},
   "outputs": [],
   "source": [
    "test_new = []\n",
    "\n",
    "for line in test:\n",
    "    test_new.append(line.split())"
   ]
  },
  {
   "cell_type": "code",
   "execution_count": 7,
   "id": "2a791555",
   "metadata": {},
   "outputs": [],
   "source": [
    "X_test = []\n",
    "y_test = []\n",
    "queries_test = []\n",
    "\n",
    "for test_new_line in test_new:\n",
    "    my_test = [0] * 245\n",
    "    for i in range(1, len(test_new_line)-2):\n",
    "        index, value = test_new_line[i].split(':')\n",
    "        my_test[int(index)-1] = float(value)\n",
    "    X_test.append(my_test)\n",
    "    y_test.append(float(test_new_line[0]))\n",
    "    queries_test.append(int(test_new_line[-1]))"
   ]
  },
  {
   "cell_type": "code",
   "execution_count": 8,
   "id": "b8d84fb1",
   "metadata": {},
   "outputs": [],
   "source": [
    "X_train = np.array(X_train)\n",
    "y_train = np.array(y_train)\n",
    "queries_train = np.array(queries_train)\n",
    "X_test = np.array(X_test)\n",
    "y_test = np.array(y_test)\n",
    "queries_test = np.array(queries_test)"
   ]
  },
  {
   "cell_type": "markdown",
   "id": "aeb9c8ad",
   "metadata": {},
   "source": [
    "# CatBoost Tutorial"
   ]
  },
  {
   "cell_type": "code",
   "execution_count": 9,
   "id": "43dbc0f1",
   "metadata": {},
   "outputs": [
    {
     "name": "stdout",
     "output_type": "stream",
     "text": [
      "77714\n"
     ]
    }
   ],
   "source": [
    "num_documents = X_train.shape[0]\n",
    "print(num_documents)"
   ]
  },
  {
   "cell_type": "code",
   "execution_count": 10,
   "id": "58b2d258",
   "metadata": {},
   "outputs": [
    {
     "data": {
      "text/plain": [
       "245"
      ]
     },
     "execution_count": 10,
     "metadata": {},
     "output_type": "execute_result"
    }
   ],
   "source": [
    "X_train.shape[1]"
   ]
  },
  {
   "cell_type": "code",
   "execution_count": 11,
   "id": "d3fee520",
   "metadata": {},
   "outputs": [
    {
     "data": {
      "text/plain": [
       "dict_items([(1.0, 20086), (0.0, 25776), (2.0, 24424), (4.0, 952), (3.0, 1744), (0.5, 1982), (1.5, 1033), (0.25, 77), (1.33333, 110), (1.2, 3), (2.37037, 39), (0.666671, 340), (2.33333, 79), (0.333329, 268), (2.16049, 19), (2.5, 337), (2.87037, 26), (1.66667, 107), (2.12037, 4), (2.25, 19), (2.24074, 25), (0.2, 10), (1.6, 6), (0.8, 5), (0.6, 10), (0.875, 1), (2.66667, 31), (3.1625, 2), (1.75, 12), (0.75, 55), (2.61111, 4), (0.222229, 1), (0.4, 5), (1.25, 23), (1.97143, 2), (3.5, 16), (2.24691, 10), (2.16667, 1), (1.95239, 1), (1.4, 4), (3.66667, 5), (3.8, 2), (0.125, 1), (2.05556, 2), (3.33333, 4), (2.2, 5), (2.58025, 2), (1.16667, 2), (2.91358, 1), (2.07407, 3), (2.11729, 1), (3.25, 1), (2.375, 1), (3.21666, 1), (2.74074, 5), (2.12346, 3), (0.166671, 8), (0.833329, 5), (1.14286, 1), (3.53, 1), (3.4, 1), (2.75, 1), (3.58125, 1), (2.40741, 1), (0.583329, 1), (1.8, 1), (2.42857, 1), (2.0463, 1), (1.77143, 1), (3.75, 1), (0.888886, 1)])"
      ]
     },
     "execution_count": 11,
     "metadata": {},
     "output_type": "execute_result"
    }
   ],
   "source": [
    "from collections import Counter\n",
    "Counter(y_train).items()"
   ]
  },
  {
   "cell_type": "code",
   "execution_count": 12,
   "id": "d2fef8c4",
   "metadata": {},
   "outputs": [],
   "source": [
    "max_relevance = np.max(y_train)\n",
    "y_train /= max_relevance\n",
    "y_test /= max_relevance"
   ]
  },
  {
   "cell_type": "code",
   "execution_count": 13,
   "id": "666143e5",
   "metadata": {},
   "outputs": [
    {
     "data": {
      "text/plain": [
       "7300"
      ]
     },
     "execution_count": 13,
     "metadata": {},
     "output_type": "execute_result"
    }
   ],
   "source": [
    "num_queries = np.unique(queries_train).shape[0]\n",
    "num_queries"
   ]
  },
  {
   "cell_type": "code",
   "execution_count": 14,
   "id": "bfdc058e",
   "metadata": {},
   "outputs": [],
   "source": [
    "train = Pool(\n",
    "    data=X_train,\n",
    "    label=y_train,\n",
    "    group_id=queries_train\n",
    ")\n",
    "\n",
    "test = Pool(\n",
    "    data=X_test,\n",
    "    label=y_test,\n",
    "    group_id=queries_test\n",
    ")"
   ]
  },
  {
   "cell_type": "code",
   "execution_count": 15,
   "id": "3f0fbcac",
   "metadata": {},
   "outputs": [],
   "source": [
    "default_parameters = {\n",
    "    'iterations': 2000,\n",
    "    'custom_metric': ['NDCG', 'PFound', 'AverageGain:top=10'],\n",
    "    'verbose': False,\n",
    "    'random_seed': 0,\n",
    "}\n",
    "\n",
    "parameters = {}"
   ]
  },
  {
   "cell_type": "code",
   "execution_count": 16,
   "id": "c336a019",
   "metadata": {},
   "outputs": [],
   "source": [
    "def fit_model(loss_function, additional_params=None, train_pool=train, test_pool=test):\n",
    "    parameters = deepcopy(default_parameters)\n",
    "    parameters['loss_function'] = loss_function\n",
    "    parameters['train_dir'] = loss_function\n",
    "    \n",
    "    if additional_params is not None:\n",
    "        parameters.update(additional_params)\n",
    "        \n",
    "    model = CatBoostRanker(**parameters)\n",
    "    model.fit(train_pool, eval_set=test_pool, plot=True)\n",
    "    \n",
    "    return model"
   ]
  },
  {
   "cell_type": "code",
   "execution_count": 22,
   "id": "ce0ee76a",
   "metadata": {},
   "outputs": [
    {
     "data": {
      "application/vnd.jupyter.widget-view+json": {
       "model_id": "c4fb8a11cfd646a7bcf01bd00d75f004",
       "version_major": 2,
       "version_minor": 0
      },
      "text/plain": [
       "MetricVisualizer(layout=Layout(align_self='stretch', height='500px'))"
      ]
     },
     "metadata": {},
     "output_type": "display_data"
    }
   ],
   "source": [
    "model = fit_model('RMSE', {'custom_metric': ['NDCG', 'RecallAt:top=10', 'MAP:top=10']})"
   ]
  },
  {
   "cell_type": "code",
   "execution_count": 18,
   "id": "4ee42536",
   "metadata": {},
   "outputs": [
    {
     "data": {
      "application/vnd.jupyter.widget-view+json": {
       "model_id": "fde2b30e01be4e2d87e58c70ca45e3b6",
       "version_major": 2,
       "version_minor": 0
      },
      "text/plain": [
       "MetricVisualizer(layout=Layout(align_self='stretch', height='500px'))"
      ]
     },
     "metadata": {},
     "output_type": "display_data"
    },
    {
     "data": {
      "text/plain": [
       "<catboost.core.CatBoostRanker at 0x2b658e4f0>"
      ]
     },
     "execution_count": 18,
     "metadata": {},
     "output_type": "execute_result"
    }
   ],
   "source": [
    "fit_model('PairLogit')"
   ]
  },
  {
   "cell_type": "code",
   "execution_count": 20,
   "id": "cf9dbe34",
   "metadata": {},
   "outputs": [
    {
     "data": {
      "application/vnd.jupyter.widget-view+json": {
       "model_id": "7ec76e806694498884f71e199a575e9e",
       "version_major": 2,
       "version_minor": 0
      },
      "text/plain": [
       "MetricVisualizer(layout=Layout(align_self='stretch', height='500px'))"
      ]
     },
     "metadata": {},
     "output_type": "display_data"
    },
    {
     "data": {
      "text/plain": [
       "<catboost.core.CatBoostRanker at 0x2aad61340>"
      ]
     },
     "execution_count": 20,
     "metadata": {},
     "output_type": "execute_result"
    }
   ],
   "source": [
    "fit_model('YetiRank')"
   ]
  },
  {
   "cell_type": "code",
   "execution_count": null,
   "id": "a783d246",
   "metadata": {},
   "outputs": [],
   "source": []
  }
 ],
 "metadata": {
  "kernelspec": {
   "display_name": "Python 3 (ipykernel)",
   "language": "python",
   "name": "python3"
  },
  "language_info": {
   "codemirror_mode": {
    "name": "ipython",
    "version": 3
   },
   "file_extension": ".py",
   "mimetype": "text/x-python",
   "name": "python",
   "nbconvert_exporter": "python",
   "pygments_lexer": "ipython3",
   "version": "3.9.13"
  }
 },
 "nbformat": 4,
 "nbformat_minor": 5
}
